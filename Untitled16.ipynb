{
 "cells": [
  {
   "cell_type": "code",
   "execution_count": 4,
   "id": "e4d7e746",
   "metadata": {},
   "outputs": [
    {
     "ename": "SyntaxError",
     "evalue": "expected ':' (3234810397.py, line 6)",
     "output_type": "error",
     "traceback": [
      "\u001b[1;36m  Cell \u001b[1;32mIn[4], line 6\u001b[1;36m\u001b[0m\n\u001b[1;33m    else city==\"jaipur\":\u001b[0m\n\u001b[1;37m         ^\u001b[0m\n\u001b[1;31mSyntaxError\u001b[0m\u001b[1;31m:\u001b[0m expected ':'\n"
     ]
    }
   ],
   "source": [
    "city=input(\"enter tha name\")\n",
    "if city == \"delhi\":\n",
    "    print(\"the delhi\")\n",
    "elif city==\"agra\":\n",
    "    print(\"the agra\")\n",
    "else city==\"jaipur\":\n",
    "    print(\"the jaipur\")\n",
    "else:\n",
    "    print(\"nothing\")"
   ]
  },
  {
   "cell_type": "code",
   "execution_count": 7,
   "id": "7ba730a8",
   "metadata": {},
   "outputs": [
    {
     "name": "stdout",
     "output_type": "stream",
     "text": [
      "enter the num10\n",
      "10 is 2.0 %\n"
     ]
    }
   ],
   "source": [
    "x=input(\"enter the num\")\n",
    "p=int(x)\n",
    "n=(p/500)*100\n",
    "print(x, \"is\", n,\"%\")\n"
   ]
  },
  {
   "cell_type": "code",
   "execution_count": 9,
   "id": "3c3dbc2e",
   "metadata": {},
   "outputs": [
    {
     "name": "stdout",
     "output_type": "stream",
     "text": [
      "less\n",
      "condition \n"
     ]
    }
   ],
   "source": [
    "i=20\n",
    "if(i>15):\n",
    "    print(\"less\")\n",
    "print(\"condition \")"
   ]
  },
  {
   "cell_type": "code",
   "execution_count": 11,
   "id": "6a7f5aed",
   "metadata": {},
   "outputs": [
    {
     "name": "stdout",
     "output_type": "stream",
     "text": [
      "0\n",
      "1\n",
      "2\n",
      "3\n",
      "4\n"
     ]
    }
   ],
   "source": [
    "for i in range(5):\n",
    "    print(i)\n",
    "\n"
   ]
  },
  {
   "cell_type": "code",
   "execution_count": 12,
   "id": "1369a3e9",
   "metadata": {},
   "outputs": [
    {
     "name": "stdout",
     "output_type": "stream",
     "text": [
      "0\n",
      "1\n",
      "2\n",
      "3\n",
      "4\n"
     ]
    }
   ],
   "source": [
    "counter = 0\n",
    "while counter < 5:\n",
    "    print(counter)\n",
    "    counter += 1"
   ]
  },
  {
   "cell_type": "code",
   "execution_count": 14,
   "id": "5bb2535b",
   "metadata": {},
   "outputs": [
    {
     "name": "stdout",
     "output_type": "stream",
     "text": [
      "banana\n"
     ]
    }
   ],
   "source": [
    "fruits = [\"apple\", \"banana\", \"cherry\"]\n",
    "print(fruits[1])  # Accessing elements\n",
    "fruits.append(\"orange\")  # Adding an element\n"
   ]
  },
  {
   "cell_type": "code",
   "execution_count": 15,
   "id": "611196f1",
   "metadata": {},
   "outputs": [
    {
     "name": "stdout",
     "output_type": "stream",
     "text": [
      "Hello, Alice!\n"
     ]
    }
   ],
   "source": [
    "def greet(name):\n",
    "    print(\"Hello, \" + name + \"!\")\n",
    "\n",
    "greet(\"Alice\")\n"
   ]
  },
  {
   "cell_type": "code",
   "execution_count": 16,
   "id": "be4ce6c3",
   "metadata": {},
   "outputs": [
    {
     "name": "stdout",
     "output_type": "stream",
     "text": [
      "John\n"
     ]
    }
   ],
   "source": [
    "person = {\n",
    "    \"name\": \"John\",\n",
    "    \"age\": 30,\n",
    "    \"city\": \"New York\"\n",
    "}\n",
    "print(person[\"name\"])\n"
   ]
  },
  {
   "cell_type": "code",
   "execution_count": 17,
   "id": "d0be1982",
   "metadata": {},
   "outputs": [
    {
     "name": "stdout",
     "output_type": "stream",
     "text": [
      "Toyota\n"
     ]
    }
   ],
   "source": [
    "class Car:\n",
    "    def __init__(self, brand):\n",
    "        self.brand = brand\n",
    "\n",
    "my_car = Car(\"Toyota\")\n",
    "print(my_car.brand)\n"
   ]
  },
  {
   "cell_type": "code",
   "execution_count": 19,
   "id": "0077a482",
   "metadata": {},
   "outputs": [
    {
     "name": "stdout",
     "output_type": "stream",
     "text": [
      "You are an adult.\n"
     ]
    }
   ],
   "source": [
    "age=20\n",
    "if age >= 18:\n",
    "    print(\"You are an adult.\")\n",
    "elif age >= 13:\n",
    "    print(\"You are a teenager.\")\n",
    "else:\n",
    "    print(\"You are a child.\")\n"
   ]
  },
  {
   "cell_type": "code",
   "execution_count": 24,
   "id": "8e5a0d87",
   "metadata": {},
   "outputs": [],
   "source": [
    "message = \"Hello, World!\"\n",
    "length = len(message)\n",
    "\n"
   ]
  },
  {
   "cell_type": "code",
   "execution_count": 26,
   "id": "ad027558",
   "metadata": {},
   "outputs": [
    {
     "name": "stdout",
     "output_type": "stream",
     "text": [
      "1\n",
      "2\n",
      "3\n",
      "4\n",
      "5\n"
     ]
    }
   ],
   "source": [
    "i=1\n",
    "n=5\n",
    "while i <=n:\n",
    "    print(i)\n",
    "    i= i+1"
   ]
  },
  {
   "cell_type": "code",
   "execution_count": 29,
   "id": "7f9a6889",
   "metadata": {},
   "outputs": [
    {
     "name": "stdout",
     "output_type": "stream",
     "text": [
      "12\n",
      "12\n",
      "24\n",
      "36\n",
      "48\n",
      "60\n",
      "72\n",
      "84\n",
      "96\n",
      "108\n",
      "120\n"
     ]
    }
   ],
   "source": [
    "x= int(input())\n",
    "i=1\n",
    "while i<=10:\n",
    "    print(x*i)\n",
    "    i=i+1"
   ]
  },
  {
   "cell_type": "code",
   "execution_count": 31,
   "id": "566ba4c0",
   "metadata": {},
   "outputs": [
    {
     "name": "stdout",
     "output_type": "stream",
     "text": [
      "he\n",
      "he\n",
      "he\n",
      "new\n"
     ]
    }
   ],
   "source": [
    "c=0\n",
    "while (c<3):\n",
    "    c=c+1\n",
    "    print(\"he\")\n",
    "else:\n",
    "    print(\"new\")"
   ]
  },
  {
   "cell_type": "code",
   "execution_count": 33,
   "id": "48d864a5",
   "metadata": {},
   "outputs": [
    {
     "name": "stdout",
     "output_type": "stream",
     "text": [
      "new\n",
      "old\n",
      "newm\n"
     ]
    }
   ],
   "source": [
    "a = [\"new\", \"old\", \"newm\"]\n",
    "for x in a:\n",
    "    print(x)"
   ]
  },
  {
   "cell_type": "code",
   "execution_count": 35,
   "id": "86d1235d",
   "metadata": {},
   "outputs": [
    {
     "name": "stdout",
     "output_type": "stream",
     "text": [
      "p\n",
      "r\n",
      "a\n",
      "s\n",
      "h\n",
      "n\n",
      "a\n",
      "t\n"
     ]
    }
   ],
   "source": [
    "for xx in \"prashnat\":\n",
    "    print(xx)"
   ]
  },
  {
   "cell_type": "code",
   "execution_count": 38,
   "id": "d46ee56a",
   "metadata": {},
   "outputs": [
    {
     "name": "stdout",
     "output_type": "stream",
     "text": [
      "3\n",
      "4\n",
      "5\n",
      "6\n",
      "7\n",
      "8\n",
      "9\n"
     ]
    }
   ],
   "source": [
    "for xx in range(3, 10):\n",
    "    print(xx)"
   ]
  },
  {
   "cell_type": "code",
   "execution_count": 46,
   "id": "23b7e77d",
   "metadata": {},
   "outputs": [
    {
     "ename": "IndexError",
     "evalue": "list index out of range",
     "output_type": "error",
     "traceback": [
      "\u001b[1;31m---------------------------------------------------------------------------\u001b[0m",
      "\u001b[1;31mIndexError\u001b[0m                                Traceback (most recent call last)",
      "Cell \u001b[1;32mIn[46], line 5\u001b[0m\n\u001b[0;32m      3\u001b[0m L2\u001b[38;5;241m=\u001b[39m []\n\u001b[0;32m      4\u001b[0m \u001b[38;5;28;01mfor\u001b[39;00m i \u001b[38;5;129;01min\u001b[39;00m \u001b[38;5;28mrange\u001b[39m(\u001b[38;5;241m11\u001b[39m):\n\u001b[1;32m----> 5\u001b[0m     \u001b[38;5;28;01mif\u001b[39;00m L[i]\u001b[38;5;241m>\u001b[39m\u001b[38;5;241m=\u001b[39m\u001b[38;5;241m0\u001b[39m:\n\u001b[0;32m      6\u001b[0m         L1\u001b[38;5;241m.\u001b[39mappend(L[i])\n\u001b[0;32m      7\u001b[0m     \u001b[38;5;28;01melse\u001b[39;00m :\n",
      "\u001b[1;31mIndexError\u001b[0m: list index out of range"
     ]
    }
   ],
   "source": [
    "L= [21, 34, 43, 43,67,13,-65,-87]\n",
    "L1= []\n",
    "L2= []\n",
    "for i in range(11):\n",
    "    if L[i]>=0:\n",
    "        L1.append(L[i])\n",
    "    else :\n",
    "        L2.append(L[i])\n",
    "print(L1)\n",
    "print(L2)"
   ]
  },
  {
   "cell_type": "code",
   "execution_count": 48,
   "id": "293831b3",
   "metadata": {},
   "outputs": [
    {
     "ename": "IndexError",
     "evalue": "list index out of range",
     "output_type": "error",
     "traceback": [
      "\u001b[1;31m---------------------------------------------------------------------------\u001b[0m",
      "\u001b[1;31mIndexError\u001b[0m                                Traceback (most recent call last)",
      "Cell \u001b[1;32mIn[48], line 5\u001b[0m\n\u001b[0;32m      3\u001b[0m L2\u001b[38;5;241m=\u001b[39m[]\n\u001b[0;32m      4\u001b[0m \u001b[38;5;28;01mfor\u001b[39;00m i \u001b[38;5;129;01min\u001b[39;00m \u001b[38;5;28mrange\u001b[39m(\u001b[38;5;241m11\u001b[39m):\n\u001b[1;32m----> 5\u001b[0m     \u001b[38;5;28;01mif\u001b[39;00m L[i]\u001b[38;5;241m>\u001b[39m\u001b[38;5;241m=\u001b[39m\u001b[38;5;241m0\u001b[39m:\n\u001b[0;32m      6\u001b[0m         L1\u001b[38;5;241m.\u001b[39mappend(L[i])\n\u001b[0;32m      7\u001b[0m     \u001b[38;5;28;01melse\u001b[39;00m :\n",
      "\u001b[1;31mIndexError\u001b[0m: list index out of range"
     ]
    }
   ],
   "source": [
    "L=[12, 34, 56, 78, 97, 65, -43]\n",
    "L1=[]\n",
    "L2=[]\n",
    "for i in range(11):\n",
    "    if L[i]>=0:\n",
    "        L1.append(L[i])\n",
    "    else :\n",
    "        L2.append(L[i])\n",
    "print(L1)\n",
    "print(L2)"
   ]
  },
  {
   "cell_type": "code",
   "execution_count": 50,
   "id": "3727fdd8",
   "metadata": {},
   "outputs": [
    {
     "name": "stdout",
     "output_type": "stream",
     "text": [
      "0\n",
      "1\n",
      "2\n",
      "4\n"
     ]
    }
   ],
   "source": [
    "for i in range(5):\n",
    "    if i==3:\n",
    "        continue  \n",
    "    print(i)"
   ]
  },
  {
   "cell_type": "code",
   "execution_count": null,
   "id": "6cba5fa8",
   "metadata": {},
   "outputs": [
    {
     "name": "stdout",
     "output_type": "stream",
     "text": [
      "enter the value12\n",
      "enter the value21\n",
      "enter the value21\n",
      "new\n",
      "delhi\n",
      "3456783243\n"
     ]
    }
   ],
   "source": [
    "def concate():\n",
    "    print(\"new\")\n",
    "    print(\"delhi\")\n",
    "    print(\"3456783243\")\n",
    "for i in range(3):\n",
    "    a=input(\"enter the value\")\n",
    "    b=int(input(\"enter the value\"))\n",
    "    c=int(input(\"enter the value\"))\n",
    "    concate()"
   ]
  },
  {
   "cell_type": "code",
   "execution_count": null,
   "id": "571c2296",
   "metadata": {},
   "outputs": [],
   "source": [
    "def test_range(n):\n",
    "    if n in range(3, 9):\n",
    "        print(%str(n))\n",
    "    else:\n",
    "        print(\"print\")\n",
    "test_range(12)"
   ]
  },
  {
   "cell_type": "code",
   "execution_count": null,
   "id": "f2ee66a7",
   "metadata": {},
   "outputs": [],
   "source": [
    "def evenOdd(x):\n",
    "    if(x % 2 == 0):\n",
    "        print(\"even\")\n",
    "    else:\n",
    "        print('odd')\n",
    "evenOdd(2)"
   ]
  },
  {
   "cell_type": "code",
   "execution_count": null,
   "id": "c0ddffff",
   "metadata": {},
   "outputs": [],
   "source": []
  },
  {
   "cell_type": "code",
   "execution_count": null,
   "id": "a1aec314",
   "metadata": {},
   "outputs": [],
   "source": [
    "def myFun(x, y=50):\n",
    "    print(\"x\", x)\n",
    "    print(\"y\", y)\n",
    "myFun(10)"
   ]
  },
  {
   "cell_type": "code",
   "execution_count": null,
   "id": "597961fc",
   "metadata": {},
   "outputs": [],
   "source": []
  }
 ],
 "metadata": {
  "kernelspec": {
   "display_name": "Python 3 (ipykernel)",
   "language": "python",
   "name": "python3"
  },
  "language_info": {
   "codemirror_mode": {
    "name": "ipython",
    "version": 3
   },
   "file_extension": ".py",
   "mimetype": "text/x-python",
   "name": "python",
   "nbconvert_exporter": "python",
   "pygments_lexer": "ipython3",
   "version": "3.11.4"
  }
 },
 "nbformat": 4,
 "nbformat_minor": 5
}
