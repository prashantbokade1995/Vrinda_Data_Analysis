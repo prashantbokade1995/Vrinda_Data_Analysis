{
 "cells": [
  {
   "cell_type": "markdown",
   "id": "b77d970c",
   "metadata": {},
   "source": [
    "Question 1: Calculate the Mean of a List"
   ]
  },
  {
   "cell_type": "code",
   "execution_count": 1,
   "id": "62fc0231",
   "metadata": {},
   "outputs": [
    {
     "name": "stdout",
     "output_type": "stream",
     "text": [
      "Mean: 20.4\n"
     ]
    }
   ],
   "source": [
    "def calculate_mean(numbers):\n",
    "    total_sum = sum(numbers)\n",
    "    mean = total_sum / len(numbers)\n",
    "    return mean\n",
    "\n",
    "data = [12, 15, 20, 25, 30]\n",
    "result = calculate_mean(data)\n",
    "print(\"Mean:\", result)\n"
   ]
  },
  {
   "cell_type": "markdown",
   "id": "c2451a95",
   "metadata": {},
   "source": [
    "Question 2: Find the Median of a List"
   ]
  },
  {
   "cell_type": "code",
   "execution_count": 2,
   "id": "b3e195c1",
   "metadata": {},
   "outputs": [
    {
     "name": "stdout",
     "output_type": "stream",
     "text": [
      "Median: 22.5\n"
     ]
    }
   ],
   "source": [
    "def calculate_median(numbers):\n",
    "    sorted_numbers = sorted(numbers)\n",
    "    n = len(sorted_numbers)\n",
    "    \n",
    "    if n % 2 == 0:\n",
    "        mid1 = sorted_numbers[n // 2 - 1]\n",
    "        mid2 = sorted_numbers[n // 2]\n",
    "        median = (mid1 + mid2) / 2\n",
    "    else:\n",
    "        median = sorted_numbers[n // 2]\n",
    "    \n",
    "    return median\n",
    "\n",
    "data = [12, 15, 20, 25, 30, 35]\n",
    "result = calculate_median(data)\n",
    "print(\"Median:\", result)\n"
   ]
  },
  {
   "cell_type": "markdown",
   "id": "cb256e00",
   "metadata": {},
   "source": [
    "Question 3: Count Frequency of Words in a Text"
   ]
  },
  {
   "cell_type": "code",
   "execution_count": 3,
   "id": "f739633d",
   "metadata": {},
   "outputs": [
    {
     "name": "stdout",
     "output_type": "stream",
     "text": [
      "Word Frequency: {'this': 2, 'is': 1, 'a': 1, 'sample': 2, 'text.': 1, 'text': 1, 'contains': 1, 'some': 1, 'words.': 1}\n"
     ]
    }
   ],
   "source": [
    "def word_frequency(text):\n",
    "    words = text.lower().split()\n",
    "    frequency = {}\n",
    "    \n",
    "    for word in words:\n",
    "        if word in frequency:\n",
    "            frequency[word] += 1\n",
    "        else:\n",
    "            frequency[word] = 1\n",
    "            \n",
    "    return frequency\n",
    "\n",
    "text = \"This is a sample text. This text contains some sample words.\"\n",
    "result = word_frequency(text)\n",
    "print(\"Word Frequency:\", result)\n"
   ]
  },
  {
   "cell_type": "markdown",
   "id": "751ff2d5",
   "metadata": {},
   "source": [
    "Question 4: Remove Duplicates from a List"
   ]
  },
  {
   "cell_type": "code",
   "execution_count": 5,
   "id": "b7a4172b",
   "metadata": {},
   "outputs": [
    {
     "name": "stdout",
     "output_type": "stream",
     "text": [
      "Unique List: [10, 20, 30, 40, 50]\n"
     ]
    }
   ],
   "source": [
    "def remove_duplicates(input_list):\n",
    "    unique_list = []\n",
    "    for item in input_list:\n",
    "        if item not in unique_list:\n",
    "            unique_list.append(item)\n",
    "    return unique_list\n",
    "\n",
    "data = [10, 20, 10, 30, 20, 40, 50]\n",
    "result = remove_duplicates(data)\n",
    "print(\"Unique List:\", result)\n"
   ]
  },
  {
   "cell_type": "markdown",
   "id": "4c0aad8e",
   "metadata": {},
   "source": [
    "Question 5: Calculate Pearson Correlation Coefficient"
   ]
  },
  {
   "cell_type": "code",
   "execution_count": null,
   "id": "7e1e4a15",
   "metadata": {},
   "outputs": [],
   "source": [
    "import numpy as np\n",
    "\n",
    "def calculate_pearson_correlation(x, y):\n",
    "    correlation = np.corrcoef(x, y)[0, 1]\n",
    "    return correlation\n",
    "\n",
    "list1 = [12, 15, 20, 25, 30]\n",
    "list2 = [5, 8, 10, 15, 18]\n",
    "result = calculate_pearson_correlation(list1, list2)\n",
    "print(\"Pearson Correlation Coefficient:\", result)\n"
   ]
  },
  {
   "cell_type": "markdown",
   "id": "1328e225",
   "metadata": {},
   "source": [
    "# generate an infinite fibonnaci series by using generator"
   ]
  },
  {
   "cell_type": "code",
   "execution_count": 6,
   "id": "9ed3380c",
   "metadata": {},
   "outputs": [
    {
     "name": "stdout",
     "output_type": "stream",
     "text": [
      "0\n",
      "1\n",
      "1\n",
      "2\n",
      "3\n",
      "5\n",
      "8\n",
      "13\n",
      "21\n",
      "34\n"
     ]
    }
   ],
   "source": [
    "def fibonacci_generator():\n",
    "    a, b = 0, 1\n",
    "    while True:\n",
    "        yield a\n",
    "        a, b = b, a + b\n",
    "\n",
    "fibonacci = fibonacci_generator()\n",
    "\n",
    "# Print the first 10 numbers in the Fibonacci series\n",
    "for _ in range(10):\n",
    "    print(next(fibonacci))\n"
   ]
  },
  {
   "cell_type": "markdown",
   "id": "f90ba177",
   "metadata": {},
   "source": [
    "generate an fibonnaci series by using generator"
   ]
  },
  {
   "cell_type": "code",
   "execution_count": 7,
   "id": "cd71a646",
   "metadata": {},
   "outputs": [
    {
     "name": "stdout",
     "output_type": "stream",
     "text": [
      "0\n",
      "1\n",
      "1\n",
      "2\n",
      "3\n",
      "5\n",
      "8\n",
      "13\n",
      "21\n",
      "34\n"
     ]
    }
   ],
   "source": [
    "def fibonacci_generator(limit):\n",
    "    a, b = 0, 1\n",
    "    count = 0\n",
    "    while count < limit:\n",
    "        yield a\n",
    "        a, b = b, a + b\n",
    "        count += 1\n",
    "\n",
    "# Generate Fibonacci series up to a certain limit\n",
    "limit = 10\n",
    "fibonacci = fibonacci_generator(limit)\n",
    "\n",
    "# Iterate and print the generated Fibonacci numbers\n",
    "for num in fibonacci:\n",
    "    print(num)\n"
   ]
  },
  {
   "cell_type": "markdown",
   "id": "8efcdfb5",
   "metadata": {},
   "source": [
    "sort a list without using a sort keyword"
   ]
  },
  {
   "cell_type": "code",
   "execution_count": 8,
   "id": "48294591",
   "metadata": {},
   "outputs": [
    {
     "name": "stdout",
     "output_type": "stream",
     "text": [
      "Sorted List: [11, 12, 22, 25, 34, 64, 90]\n"
     ]
    }
   ],
   "source": [
    "def bubble_sort(input_list):\n",
    "    n = len(input_list)\n",
    "    for i in range(n):\n",
    "        for j in range(0, n-i-1):\n",
    "            if input_list[j] > input_list[j+1]:\n",
    "                input_list[j], input_list[j+1] = input_list[j+1], input_list[j]\n",
    "\n",
    "data = [64, 34, 25, 12, 22, 11, 90]\n",
    "bubble_sort(data)\n",
    "print(\"Sorted List:\", data)\n"
   ]
  },
  {
   "cell_type": "code",
   "execution_count": 9,
   "id": "19b361e7",
   "metadata": {},
   "outputs": [
    {
     "name": "stdout",
     "output_type": "stream",
     "text": [
      "Sorted List: [11, 12, 22, 25, 34, 64, 90]\n"
     ]
    }
   ],
   "source": [
    "data = [64, 34, 25, 12, 22, 11, 90]\n",
    "sorted_data = sorted(data)\n",
    "print(\"Sorted List:\", sorted_data)\n"
   ]
  },
  {
   "cell_type": "code",
   "execution_count": 10,
   "id": "2b37d7af",
   "metadata": {},
   "outputs": [
    {
     "name": "stdout",
     "output_type": "stream",
     "text": [
      "Sorted List: [11, 12, 22, 25, 34, 64, 90]\n"
     ]
    }
   ],
   "source": [
    "data = [64, 34, 25, 12, 22, 11, 90]\n",
    "data.sort()  # This sorts the list in place\n",
    "print(\"Sorted List:\", data)\n"
   ]
  },
  {
   "cell_type": "code",
   "execution_count": 11,
   "id": "75814e25",
   "metadata": {},
   "outputs": [
    {
     "name": "stdout",
     "output_type": "stream",
     "text": [
      "Sorted List (Descending): [90, 64, 34, 25, 22, 12, 11]\n"
     ]
    }
   ],
   "source": [
    "data = [64, 34, 25, 12, 22, 11, 90]\n",
    "sorted_data_desc = sorted(data, reverse=True)\n",
    "print(\"Sorted List (Descending):\", sorted_data_desc)\n"
   ]
  },
  {
   "cell_type": "markdown",
   "id": "bf3d3c00",
   "metadata": {},
   "source": [
    "Write a code to check weather a string is palindrome or not"
   ]
  },
  {
   "cell_type": "code",
   "execution_count": 13,
   "id": "47ca836a",
   "metadata": {},
   "outputs": [
    {
     "name": "stdout",
     "output_type": "stream",
     "text": [
      "Enter a string: wdw\n",
      "The string is a palindrome.\n"
     ]
    }
   ],
   "source": [
    "def is_palindrome(input_string):\n",
    "    clean_string = input_string.lower().replace(\" \", \"\")  # Convert to lowercase and remove spaces\n",
    "    reversed_string = clean_string[::-1]  # Reverse the string\n",
    "    \n",
    "    return clean_string == reversed_string\n",
    "\n",
    "user_input = input(\"Enter a string: \")\n",
    "if is_palindrome(user_input):\n",
    "    print(\"The string is a palindrome.\")\n",
    "else:\n",
    "    print(\"The string is not a palindrome.\")\n"
   ]
  },
  {
   "cell_type": "code",
   "execution_count": null,
   "id": "ef61c108",
   "metadata": {},
   "outputs": [],
   "source": []
  },
  {
   "cell_type": "markdown",
   "id": "5b088894",
   "metadata": {},
   "source": [
    "Short dictionary/ by using dict comprehensive "
   ]
  },
  {
   "cell_type": "code",
   "execution_count": 14,
   "id": "d3557339",
   "metadata": {},
   "outputs": [
    {
     "name": "stdout",
     "output_type": "stream",
     "text": [
      "{'b': 2, 'd': 4}\n"
     ]
    }
   ],
   "source": [
    "original_dict = {\"a\": 1, \"b\": 2, \"c\": 3, \"d\": 4}\n",
    "short_dict = {key: value for key, value in original_dict.items() if value % 2 == 0}\n",
    "\n",
    "print(short_dict)\n"
   ]
  },
  {
   "cell_type": "markdown",
   "id": "bc8434ad",
   "metadata": {},
   "source": [
    "Find the pair with given number in list"
   ]
  },
  {
   "cell_type": "code",
   "execution_count": 15,
   "id": "0ac7fc0f",
   "metadata": {},
   "outputs": [
    {
     "name": "stdout",
     "output_type": "stream",
     "text": [
      "Pairs with sum 10 : [(7, 3), (9, 1)]\n"
     ]
    }
   ],
   "source": [
    "def find_pairs_with_sum(input_list, target_sum):\n",
    "    pairs = []\n",
    "    seen_numbers = set()\n",
    "    \n",
    "    for num in input_list:\n",
    "        complement = target_sum - num\n",
    "        if complement in seen_numbers:\n",
    "            pairs.append((num, complement))\n",
    "        seen_numbers.add(num)\n",
    "    \n",
    "    return pairs\n",
    "\n",
    "data = [2, 4, 3, 7, 1, 5, 9]\n",
    "target = 10\n",
    "\n",
    "result = find_pairs_with_sum(data, target)\n",
    "print(\"Pairs with sum\", target, \":\", result)\n"
   ]
  },
  {
   "cell_type": "markdown",
   "id": "72dc5317",
   "metadata": {},
   "source": [
    "Create a Fibonacci series by using recursion"
   ]
  },
  {
   "cell_type": "code",
   "execution_count": 16,
   "id": "2bbab9be",
   "metadata": {},
   "outputs": [
    {
     "name": "stdout",
     "output_type": "stream",
     "text": [
      "Fibonacci Series: [0, 1, 1, 2, 3, 5, 8, 13, 21, 34]\n"
     ]
    }
   ],
   "source": [
    "def fibonacci_recursive(n):\n",
    "    if n <= 0:\n",
    "        return []\n",
    "    elif n == 1:\n",
    "        return [0]\n",
    "    elif n == 2:\n",
    "        return [0, 1]\n",
    "    else:\n",
    "        fib_list = fibonacci_recursive(n - 1)\n",
    "        fib_list.append(fib_list[-1] + fib_list[-2])\n",
    "        return fib_list\n",
    "\n",
    "n_terms = 10\n",
    "fibonacci_series = fibonacci_recursive(n_terms)\n",
    "print(\"Fibonacci Series:\", fibonacci_series)\n"
   ]
  },
  {
   "cell_type": "raw",
   "id": "99e26369",
   "metadata": {},
   "source": [
    "Find a require output\n",
    "Input = the sky is blue\n",
    "output = blue is  sky the"
   ]
  },
  {
   "cell_type": "code",
   "execution_count": 17,
   "id": "8ac1a419",
   "metadata": {},
   "outputs": [
    {
     "name": "stdout",
     "output_type": "stream",
     "text": [
      "blue is sky the\n"
     ]
    }
   ],
   "source": [
    "def reverse_words(input_sentence):\n",
    "    words = input_sentence.split()\n",
    "    reversed_sentence = ' '.join(reversed(words))\n",
    "    return reversed_sentence\n",
    "\n",
    "input_text = \"the sky is blue\"\n",
    "output_text = reverse_words(input_text)\n",
    "print(output_text)\n"
   ]
  },
  {
   "cell_type": "markdown",
   "id": "3d7f3040",
   "metadata": {},
   "source": [
    "Find maximum and minimum value from the list without your being preferred function"
   ]
  },
  {
   "cell_type": "code",
   "execution_count": 18,
   "id": "66bb4404",
   "metadata": {},
   "outputs": [
    {
     "name": "stdout",
     "output_type": "stream",
     "text": [
      "Maximum: 90\n",
      "Minimum: 7\n"
     ]
    }
   ],
   "source": [
    "def find_max_min(input_list):\n",
    "    if not input_list:\n",
    "        return None, None  # Return None for both max and min if the list is empty\n",
    "    \n",
    "    max_value = input_list[0]\n",
    "    min_value = input_list[0]\n",
    "    \n",
    "    for num in input_list:\n",
    "        if num > max_value:\n",
    "            max_value = num\n",
    "        if num < min_value:\n",
    "            min_value = num\n",
    "            \n",
    "    return max_value, min_value\n",
    "\n",
    "data = [12, 34, 25, 7, 56, 90, 18]\n",
    "max_val, min_val = find_max_min(data)\n",
    "print(\"Maximum:\", max_val)\n",
    "print(\"Minimum:\", min_val)\n"
   ]
  },
  {
   "cell_type": "markdown",
   "id": "edca7a92",
   "metadata": {},
   "source": [
    "lambda arguments: expression"
   ]
  },
  {
   "cell_type": "code",
   "execution_count": 19,
   "id": "e2c4f0a1",
   "metadata": {},
   "outputs": [
    {
     "name": "stdout",
     "output_type": "stream",
     "text": [
      "8\n"
     ]
    }
   ],
   "source": [
    "add = lambda x, y: x + y\n",
    "result = add(5, 3)\n",
    "print(result)  # Output: 8\n"
   ]
  },
  {
   "cell_type": "code",
   "execution_count": 20,
   "id": "3bd41f53",
   "metadata": {},
   "outputs": [
    {
     "name": "stdout",
     "output_type": "stream",
     "text": [
      "[(3, 2), (1, 5), (6, 8)]\n"
     ]
    }
   ],
   "source": [
    "data = [(1, 5), (3, 2), (6, 8)]\n",
    "sorted_data = sorted(data, key=lambda x: x[1])\n",
    "print(sorted_data)  # Output: [(3, 2), (1, 5), (6, 8)]\n"
   ]
  },
  {
   "cell_type": "code",
   "execution_count": 21,
   "id": "de44018b",
   "metadata": {},
   "outputs": [
    {
     "name": "stdout",
     "output_type": "stream",
     "text": [
      "['date', 'apple', 'banana', 'cherry']\n"
     ]
    }
   ],
   "source": [
    "words = [\"apple\", \"banana\", \"cherry\", \"date\"]\n",
    "sorted_words = sorted(words, key=lambda word: len(word))\n",
    "print(sorted_words)"
   ]
  },
  {
   "cell_type": "code",
   "execution_count": 22,
   "id": "60f9f9e9",
   "metadata": {},
   "outputs": [
    {
     "name": "stdout",
     "output_type": "stream",
     "text": [
      "[2, 4, 6, 8, 10]\n"
     ]
    }
   ],
   "source": [
    "numbers = [1, 2, 3, 4, 5, 6, 7, 8, 9, 10]\n",
    "even_numbers = list(filter(lambda x: x % 2 == 0, numbers))\n",
    "print(even_numbers)\n"
   ]
  },
  {
   "cell_type": "code",
   "execution_count": 23,
   "id": "fff85630",
   "metadata": {},
   "outputs": [
    {
     "name": "stdout",
     "output_type": "stream",
     "text": [
      "[1, 4, 9, 16, 25]\n"
     ]
    }
   ],
   "source": [
    "numbers = [1, 2, 3, 4, 5]\n",
    "squared_numbers = list(map(lambda x: x**2, numbers))\n",
    "print(squared_numbers)\n"
   ]
  },
  {
   "cell_type": "markdown",
   "id": "68f84c8c",
   "metadata": {},
   "source": [
    "explain decorators"
   ]
  },
  {
   "cell_type": "code",
   "execution_count": 25,
   "id": "073909e4",
   "metadata": {},
   "outputs": [],
   "source": [
    "def decorator_function(original_function):\n",
    "    def wrapper_function(*args, **kwargs):\n",
    "        # Code to run before the original function\n",
    "        result = original_function(*args, **kwargs)\n",
    "        # Code to run after the original function\n",
    "        return result\n",
    "    return wrapper_function\n",
    "\n",
    "@decorator_function\n",
    "def my_function():\n",
    "    # Function code\n",
    "    pass\n"
   ]
  },
  {
   "cell_type": "code",
   "execution_count": 26,
   "id": "8e731b94",
   "metadata": {},
   "outputs": [
    {
     "name": "stdout",
     "output_type": "stream",
     "text": [
      "Calling add with arguments: (3, 5), {}\n",
      "add returned: 8\n"
     ]
    }
   ],
   "source": [
    "def log_decorator(original_function):\n",
    "    def wrapper_function(*args, **kwargs):\n",
    "        print(f\"Calling {original_function.__name__} with arguments: {args}, {kwargs}\")\n",
    "        result = original_function(*args, **kwargs)\n",
    "        print(f\"{original_function.__name__} returned: {result}\")\n",
    "        return result\n",
    "    return wrapper_function\n",
    "\n",
    "@log_decorator\n",
    "def add(a, b):\n",
    "    return a + b\n",
    "\n",
    "result = add(3, 5)\n"
   ]
  },
  {
   "cell_type": "code",
   "execution_count": 27,
   "id": "e10bf691",
   "metadata": {},
   "outputs": [],
   "source": [
    "def decorator_function(original_function):\n",
    "    def wrapper_function(*args, **kwargs):\n",
    "        # Code to run before the original function\n",
    "        result = original_function(*args, **kwargs)\n",
    "        # Code to run after the original function\n",
    "        return result\n",
    "    return wrapper_function\n",
    "\n",
    "@decorator_function\n",
    "def my_function():\n",
    "    # Function code\n",
    "    pass\n"
   ]
  },
  {
   "cell_type": "code",
   "execution_count": 28,
   "id": "194e9111",
   "metadata": {},
   "outputs": [
    {
     "name": "stdout",
     "output_type": "stream",
     "text": [
      "Decorator parameter: Custom Parameter\n"
     ]
    }
   ],
   "source": [
    "def parametrized_decorator(param):\n",
    "    def decorator_function(original_function):\n",
    "        def wrapper_function(*args, **kwargs):\n",
    "            # Code to run before the original function with the parameter\n",
    "            print(f\"Decorator parameter: {param}\")\n",
    "            result = original_function(*args, **kwargs)\n",
    "            # Code to run after the original function\n",
    "            return result\n",
    "        return wrapper_function\n",
    "    return decorator_function\n",
    "\n",
    "@parametrized_decorator(\"Custom Parameter\")\n",
    "def my_function():\n",
    "    # Function code\n",
    "    pass\n",
    "\n",
    "my_function()\n"
   ]
  },
  {
   "cell_type": "code",
   "execution_count": 29,
   "id": "0f745a86",
   "metadata": {},
   "outputs": [
    {
     "name": "stdout",
     "output_type": "stream",
     "text": [
      "Calling add with arguments: (3, 5), {}\n",
      "add returned: 8\n"
     ]
    }
   ],
   "source": [
    "# Step 1: Define the Decorator Function\n",
    "def log_decorator(original_function):\n",
    "    def wrapper_function(*args, **kwargs):\n",
    "        print(f\"Calling {original_function.__name__} with arguments: {args}, {kwargs}\")\n",
    "        result = original_function(*args, **kwargs)\n",
    "        print(f\"{original_function.__name__} returned: {result}\")\n",
    "        return result\n",
    "    return wrapper_function\n",
    "\n",
    "# Step 2: Apply the Decorator\n",
    "@log_decorator\n",
    "def add(a, b):\n",
    "    return a + b\n",
    "\n",
    "# Step 3: Call the Decorated Function\n",
    "result = add(3, 5)\n"
   ]
  },
  {
   "cell_type": "code",
   "execution_count": 30,
   "id": "ab364c1a",
   "metadata": {},
   "outputs": [
    {
     "name": "stdout",
     "output_type": "stream",
     "text": [
      "Calling add with arguments: (3, 5), {}\n",
      "add returned: 8\n",
      "Calling multiply with arguments: (4, 6), {}\n",
      "multiply returned: 24\n"
     ]
    }
   ],
   "source": [
    "def log_decorator(original_function):\n",
    "    def wrapper_function(*args, **kwargs):\n",
    "        print(f\"Calling {original_function.__name__} with arguments: {args}, {kwargs}\")\n",
    "        result = original_function(*args, **kwargs)\n",
    "        print(f\"{original_function.__name__} returned: {result}\")\n",
    "        return result\n",
    "    return wrapper_function\n",
    "\n",
    "@log_decorator\n",
    "def add(a, b):\n",
    "    return a + b\n",
    "\n",
    "@log_decorator\n",
    "def multiply(x, y):\n",
    "    return x * y\n",
    "\n",
    "result_add = add(3, 5)\n",
    "result_multiply = multiply(4, 6)\n"
   ]
  },
  {
   "cell_type": "markdown",
   "id": "19d1e352",
   "metadata": {},
   "source": [
    "class function using abraction"
   ]
  },
  {
   "cell_type": "code",
   "execution_count": 31,
   "id": "51c3c37c",
   "metadata": {},
   "outputs": [
    {
     "name": "stdout",
     "output_type": "stream",
     "text": [
      "Circle Area: 78.5\n",
      "Rectangle Area: 24\n"
     ]
    }
   ],
   "source": [
    "from abc import ABC, abstractmethod\n",
    "\n",
    "class Shape(ABC):\n",
    "    @abstractmethod\n",
    "    def area(self):\n",
    "        pass\n",
    "\n",
    "class Circle(Shape):\n",
    "    def __init__(self, radius):\n",
    "        self.radius = radius\n",
    "    \n",
    "    def area(self):\n",
    "        return 3.14 * self.radius ** 2\n",
    "\n",
    "class Rectangle(Shape):\n",
    "    def __init__(self, width, height):\n",
    "        self.width = width\n",
    "        self.height = height\n",
    "    \n",
    "    def area(self):\n",
    "        return self.width * self.height\n",
    "\n",
    "# You cannot create an instance of an abstract class\n",
    "# shape = Shape()  # This will raise an error\n",
    "\n",
    "circle = Circle(5)\n",
    "rectangle = Rectangle(4, 6)\n",
    "\n",
    "print(\"Circle Area:\", circle.area())\n",
    "print(\"Rectangle Area:\", rectangle.area())\n"
   ]
  },
  {
   "cell_type": "code",
   "execution_count": null,
   "id": "a314cb53",
   "metadata": {},
   "outputs": [],
   "source": [
    "what do mean MRO"
   ]
  },
  {
   "cell_type": "code",
   "execution_count": 32,
   "id": "2f50d87f",
   "metadata": {},
   "outputs": [
    {
     "name": "stdout",
     "output_type": "stream",
     "text": [
      "B's method\n"
     ]
    }
   ],
   "source": [
    "class A:\n",
    "    def method(self):\n",
    "        print(\"A's method\")\n",
    "\n",
    "class B(A):\n",
    "    def method(self):\n",
    "        print(\"B's method\")\n",
    "\n",
    "class C(A):\n",
    "    def method(self):\n",
    "        print(\"C's method\")\n",
    "\n",
    "class D(B, C):\n",
    "    pass\n",
    "\n",
    "d = D()\n",
    "d.method()\n"
   ]
  },
  {
   "cell_type": "markdown",
   "id": "ab67f1ef",
   "metadata": {},
   "source": [
    "what if dont use \"with\" statements "
   ]
  },
  {
   "cell_type": "code",
   "execution_count": null,
   "id": "d0d2f85f",
   "metadata": {},
   "outputs": [],
   "source": [
    "with open(\"example.txt\", \"r\") as file:\n",
    "    contents = file.read()\n",
    "    # Code here can safely work with the contents of the file\n",
    "# The file is automatically closed after the block\n"
   ]
  },
  {
   "cell_type": "code",
   "execution_count": null,
   "id": "29ad538c",
   "metadata": {},
   "outputs": [],
   "source": [
    "file = open(\"example.txt\", \"r\")\n",
    "contents = file.read()\n",
    "# Code here can work with the contents of the file\n",
    "file.close()  # You must manually close the file\n"
   ]
  },
  {
   "cell_type": "markdown",
   "id": "bed5d1ab",
   "metadata": {},
   "source": [
    "what is the difference between static and class method"
   ]
  },
  {
   "cell_type": "code",
   "execution_count": 34,
   "id": "50b8066d",
   "metadata": {},
   "outputs": [],
   "source": [
    "class MyClass:\n",
    "    @staticmethod\n",
    "    def static_method(x, y):\n",
    "        return x + y\n",
    "\n",
    "result = MyClass.static_method(3, 5)\n"
   ]
  },
  {
   "cell_type": "code",
   "execution_count": 35,
   "id": "d191c35e",
   "metadata": {},
   "outputs": [
    {
     "name": "stdout",
     "output_type": "stream",
     "text": [
      "1\n",
      "1\n"
     ]
    }
   ],
   "source": [
    "class MyClass:\n",
    "    class_variable = 0\n",
    "    \n",
    "    def __init__(self, value):\n",
    "        self.instance_variable = value\n",
    "    \n",
    "    @classmethod\n",
    "    def increment_class_variable(cls):\n",
    "        cls.class_variable += 1\n",
    "\n",
    "obj1 = MyClass(10)\n",
    "obj2 = MyClass(20)\n",
    "\n",
    "obj1.increment_class_variable()\n",
    "print(obj1.class_variable)  # Output: 1\n",
    "print(obj2.class_variable)  # Output: 1 (class variable is shared among instances)\n"
   ]
  },
  {
   "cell_type": "code",
   "execution_count": null,
   "id": "308c5457",
   "metadata": {},
   "outputs": [],
   "source": []
  },
  {
   "cell_type": "code",
   "execution_count": 36,
   "id": "357dedf0",
   "metadata": {},
   "outputs": [
    {
     "name": "stdout",
     "output_type": "stream",
     "text": [
      "0\n",
      "1\n",
      "1\n",
      "2\n",
      "3\n",
      "5\n",
      "8\n",
      "13\n",
      "21\n",
      "34\n"
     ]
    }
   ],
   "source": [
    "def fibonacci_generator():\n",
    "    a, b = 0, 1\n",
    "    while True:\n",
    "        yield a\n",
    "        a, b = b, a + b\n",
    "\n",
    "fibonacci = fibonacci_generator()\n",
    "for _ in range(10):\n",
    "    print(next(fibonacci))\n"
   ]
  },
  {
   "cell_type": "code",
   "execution_count": 37,
   "id": "7b2598a1",
   "metadata": {},
   "outputs": [
    {
     "name": "stdout",
     "output_type": "stream",
     "text": [
      "0\n",
      "1\n",
      "1\n",
      "2\n",
      "3\n",
      "5\n",
      "8\n",
      "13\n",
      "21\n",
      "34\n"
     ]
    }
   ],
   "source": [
    "def fibonacci_generator():\n",
    "    a, b = 0, 1\n",
    "    while True:\n",
    "        yield a\n",
    "        a, b = b, a + b\n",
    "\n",
    "fibonacci = fibonacci_generator()\n",
    "for _ in range(10):\n",
    "    print(next(fibonacci))\n"
   ]
  },
  {
   "cell_type": "code",
   "execution_count": 38,
   "id": "30e5e60b",
   "metadata": {},
   "outputs": [
    {
     "name": "stdout",
     "output_type": "stream",
     "text": [
      "Calling add with arguments: (3, 5), {}\n",
      "add returned: 8\n"
     ]
    }
   ],
   "source": [
    "def log_decorator(original_function):\n",
    "    def wrapper_function(*args, **kwargs):\n",
    "        print(f\"Calling {original_function.__name__} with arguments: {args}, {kwargs}\")\n",
    "        result = original_function(*args, **kwargs)\n",
    "        print(f\"{original_function.__name__} returned: {result}\")\n",
    "        return result\n",
    "    return wrapper_function\n",
    "\n",
    "@log_decorator\n",
    "def add(a, b):\n",
    "    return a + b\n",
    "\n",
    "result = add(3, 5)\n"
   ]
  },
  {
   "cell_type": "code",
   "execution_count": 41,
   "id": "252f3fed",
   "metadata": {},
   "outputs": [],
   "source": [
    "square = lambda x: x**2\n",
    "result = square(5)  # Result: 25\n"
   ]
  },
  {
   "cell_type": "code",
   "execution_count": 42,
   "id": "84be81a6",
   "metadata": {},
   "outputs": [],
   "source": [
    "data = [(3, 10), (1, 5), (2, 8)]\n",
    "sorted_data = sorted(data, key=lambda x: x[1])  # Sort based on the second element of each tuple\n"
   ]
  },
  {
   "cell_type": "code",
   "execution_count": 43,
   "id": "24e74326",
   "metadata": {},
   "outputs": [],
   "source": [
    "numbers = [1, 2, 3, 4, 5]\n",
    "squared = map(lambda x: x**2, numbers)\n",
    "squared_list = list(squared)  # Converts the map result to a list\n",
    "# squared_list: [1, 4, 9, 16, 25]\n"
   ]
  },
  {
   "cell_type": "code",
   "execution_count": 44,
   "id": "a4ddc8f4",
   "metadata": {},
   "outputs": [],
   "source": [
    "numbers = [1, 2, 3, 4, 5]\n",
    "even_numbers = filter(lambda x: x % 2 == 0, numbers)\n",
    "even_numbers_list = list(even_numbers)\n",
    "# even_numbers_list: [2, 4]\n"
   ]
  },
  {
   "cell_type": "code",
   "execution_count": 45,
   "id": "fa73771f",
   "metadata": {},
   "outputs": [],
   "source": [
    "from functools import reduce\n",
    "\n",
    "numbers = [1, 2, 3, 4, 5]\n",
    "sum_result = reduce(lambda x, y: x + y, numbers)\n",
    "# sum_result: 15\n"
   ]
  },
  {
   "cell_type": "code",
   "execution_count": 46,
   "id": "900c40bf",
   "metadata": {},
   "outputs": [],
   "source": [
    "numbers = range(1, 6)\n",
    "# Output: [1, 2, 3, 4, 5]\n"
   ]
  },
  {
   "cell_type": "code",
   "execution_count": 47,
   "id": "a3626663",
   "metadata": {},
   "outputs": [],
   "source": [
    "import numpy as np\n",
    "numbers = np.arange(1, 6)\n",
    "# Output: array([1, 2, 3, 4, 5])\n"
   ]
  },
  {
   "cell_type": "code",
   "execution_count": null,
   "id": "bb68ad07",
   "metadata": {},
   "outputs": [],
   "source": [
    "my_list = [10, 20, 30, 40, 50]\n",
    "print(my_list[0])     # Prints: 10\n",
    "print(my_list[-1])    # Prints: 50\n"
   ]
  },
  {
   "cell_type": "code",
   "execution_count": 48,
   "id": "ba46b796",
   "metadata": {},
   "outputs": [],
   "source": [
    "numbers = [1, 2, 3, 4, 5]\n",
    "squared_numbers = [x**2 for x in numbers]\n",
    "# squared_numbers: [1, 4, 9, 16, 25]\n"
   ]
  },
  {
   "cell_type": "code",
   "execution_count": null,
   "id": "cb06dbac",
   "metadata": {},
   "outputs": [],
   "source": [
    "fruits = ['apple', 'banana', 'cherry']\n",
    "fruit_lengths = {fruit: len(fruit) for fruit in fruits}\n",
    "# fruit_lengths: {'apple': 5, 'banana': 6, 'cherry': 6}\n"
   ]
  },
  {
   "cell_type": "code",
   "execution_count": 49,
   "id": "6bdd8a63",
   "metadata": {},
   "outputs": [
    {
     "name": "stdout",
     "output_type": "stream",
     "text": [
      "3\n",
      "5\n"
     ]
    }
   ],
   "source": [
    "coordinates = (3, 5)\n",
    "x, y = coordinates\n",
    "print(x)  # Output: 3\n",
    "print(y)  # Output: 5\n"
   ]
  },
  {
   "cell_type": "code",
   "execution_count": 50,
   "id": "3288826a",
   "metadata": {},
   "outputs": [
    {
     "name": "stdout",
     "output_type": "stream",
     "text": [
      "True\n",
      "True\n",
      "False\n",
      "True\n"
     ]
    }
   ],
   "source": [
    "x = [1, 2, 3]\n",
    "y = x\n",
    "\n",
    "print(x is y)  # Output: True\n",
    "print(x == y)  # Output: True\n",
    "\n",
    "z = [1, 2, 3]\n",
    "print(x is z)  # Output: False\n",
    "print(x == z)  # Output: True\n"
   ]
  },
  {
   "cell_type": "code",
   "execution_count": 51,
   "id": "ce5b6f5a",
   "metadata": {},
   "outputs": [],
   "source": [
    "my_list = [10, 20, 30]\n",
    "first_element = my_list[0]  # Indexing\n"
   ]
  },
  {
   "cell_type": "code",
   "execution_count": 52,
   "id": "69e76b1d",
   "metadata": {},
   "outputs": [],
   "source": [
    "my_list = [10, 20, 30, 40, 50]\n",
    "slice = my_list[1:4]  # Slicing\n"
   ]
  },
  {
   "cell_type": "code",
   "execution_count": 53,
   "id": "930fbf20",
   "metadata": {},
   "outputs": [],
   "source": [
    "names = ['Alice', 'Bob', 'Charlie']\n",
    "ages = [25, 30, 22]\n",
    "zipped = zip(names, ages)\n"
   ]
  },
  {
   "cell_type": "code",
   "execution_count": 54,
   "id": "2ebe2d2e",
   "metadata": {},
   "outputs": [
    {
     "name": "stdout",
     "output_type": "stream",
     "text": [
      "0 Alice\n",
      "1 Bob\n",
      "2 Charlie\n"
     ]
    }
   ],
   "source": [
    "names = ['Alice', 'Bob', 'Charlie']\n",
    "for index, name in enumerate(names):\n",
    "    print(index, name)\n"
   ]
  },
  {
   "cell_type": "code",
   "execution_count": null,
   "id": "3d93f72e",
   "metadata": {},
   "outputs": [],
   "source": []
  },
  {
   "cell_type": "code",
   "execution_count": null,
   "id": "95ae62c6",
   "metadata": {},
   "outputs": [],
   "source": []
  },
  {
   "cell_type": "code",
   "execution_count": null,
   "id": "a3e2c025",
   "metadata": {},
   "outputs": [],
   "source": []
  },
  {
   "cell_type": "code",
   "execution_count": null,
   "id": "b8c3d913",
   "metadata": {},
   "outputs": [],
   "source": []
  }
 ],
 "metadata": {
  "kernelspec": {
   "display_name": "Python 3 (ipykernel)",
   "language": "python",
   "name": "python3"
  },
  "language_info": {
   "codemirror_mode": {
    "name": "ipython",
    "version": 3
   },
   "file_extension": ".py",
   "mimetype": "text/x-python",
   "name": "python",
   "nbconvert_exporter": "python",
   "pygments_lexer": "ipython3",
   "version": "3.11.4"
  }
 },
 "nbformat": 4,
 "nbformat_minor": 5
}
