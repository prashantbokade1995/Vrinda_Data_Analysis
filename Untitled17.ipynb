{
 "cells": [
  {
   "cell_type": "code",
   "execution_count": 1,
   "id": "f8cb766f",
   "metadata": {},
   "outputs": [
    {
     "ename": "SyntaxError",
     "evalue": "invalid syntax (3945369355.py, line 3)",
     "output_type": "error",
     "traceback": [
      "\u001b[1;36m  Cell \u001b[1;32mIn[1], line 3\u001b[1;36m\u001b[0m\n\u001b[1;33m    print(%str(n))\u001b[0m\n\u001b[1;37m          ^\u001b[0m\n\u001b[1;31mSyntaxError\u001b[0m\u001b[1;31m:\u001b[0m invalid syntax\n"
     ]
    }
   ],
   "source": [
    "def test_range(n):\n",
    "    if n in range(3, 9):\n",
    "        print(%str(n))\n",
    "    else:\n",
    "        print(\"print\")\n",
    "test_range(12)"
   ]
  },
  {
   "cell_type": "code",
   "execution_count": 2,
   "id": "34b5da45",
   "metadata": {},
   "outputs": [
    {
     "name": "stdout",
     "output_type": "stream",
     "text": [
      "even\n"
     ]
    }
   ],
   "source": [
    "def evenOdd(x):\n",
    "    if(x % 2 == 0):\n",
    "        print(\"even\")\n",
    "    else:\n",
    "        print('odd')\n",
    "evenOdd(2)\n"
   ]
  },
  {
   "cell_type": "code",
   "execution_count": null,
   "id": "5654ee6b",
   "metadata": {},
   "outputs": [
    {
     "name": "stdout",
     "output_type": "stream",
     "text": [
      "43\n",
      "34\n",
      "136\n",
      "\n",
      "new bills\n",
      "new billsss\n"
     ]
    }
   ],
   "source": [
    "def eeb(n):\n",
    "    if n<=500:\n",
    "        print(n*4)\n",
    "    elif n<=500 and n<=700:\n",
    "        print(n*4)\n",
    "    elif n<=700 and n<=1000:\n",
    "        print(n*4)\n",
    "def eb():\n",
    "    print('new bills')\n",
    "    print('new billsss')\n",
    "\n",
    "for i in range(2):\n",
    "    a=input()\n",
    "    n=int(input())\n",
    "    eeb(n)\n",
    "    print()\n",
    "    eb()"
   ]
  },
  {
   "cell_type": "markdown",
   "id": "4fc6fce3",
   "metadata": {},
   "source": []
  },
  {
   "cell_type": "code",
   "execution_count": null,
   "id": "ab67e3af",
   "metadata": {},
   "outputs": [],
   "source": [
    "x=(\"data\",\"analyst\", \"python\")\n",
    "y=list(x)\n",
    "y[1] = \"science\"\n",
    "x=tuple(y)\n",
    "print(x)"
   ]
  },
  {
   "cell_type": "code",
   "execution_count": null,
   "id": "e7e702b6",
   "metadata": {},
   "outputs": [],
   "source": []
  }
 ],
 "metadata": {
  "kernelspec": {
   "display_name": "Python 3 (ipykernel)",
   "language": "python",
   "name": "python3"
  },
  "language_info": {
   "codemirror_mode": {
    "name": "ipython",
    "version": 3
   },
   "file_extension": ".py",
   "mimetype": "text/x-python",
   "name": "python",
   "nbconvert_exporter": "python",
   "pygments_lexer": "ipython3",
   "version": "3.11.4"
  }
 },
 "nbformat": 4,
 "nbformat_minor": 5
}
