{
 "cells": [
  {
   "cell_type": "code",
   "execution_count": 4,
   "id": "9489799d",
   "metadata": {},
   "outputs": [
    {
     "name": "stdout",
     "output_type": "stream",
     "text": [
      "('data', 'science', 'python', 21)\n"
     ]
    }
   ],
   "source": [
    "x=(\"data\",\"analyst\", \"python\")\n",
    "y=list(x)\n",
    "y[1] = \"science\"\n",
    "y.append(21)\n",
    "x=tuple(y)\n",
    "print(x)"
   ]
  },
  {
   "cell_type": "code",
   "execution_count": 6,
   "id": "7fd51110",
   "metadata": {},
   "outputs": [
    {
     "name": "stdout",
     "output_type": "stream",
     "text": [
      "3\n",
      "(3,)\n",
      "5\n",
      "(3, 5)\n",
      "6\n",
      "(3, 5, 6)\n",
      "78\n",
      "(3, 5, 6, 78)\n",
      "767\n",
      "(3, 5, 6, 78, 767)\n",
      "767\n",
      "(3, 5, 6, 78, 767, 767)\n"
     ]
    }
   ],
   "source": [
    "T=()\n",
    "i=0\n",
    "while i<=5:\n",
    "    n=int(input())\n",
    "    T=T+(n,)\n",
    "    i=i+1\n",
    "    print(T)"
   ]
  },
  {
   "cell_type": "markdown",
   "id": "3fc64e6e",
   "metadata": {},
   "source": [
    "d={'c1':[6,5,4,6],'c2':[6,5,4,6],'c3':[6,5,4,6],}\n",
    "for row in zip(*([key]+(value) for key, value in sorted(d.items()))):\n",
    "    print(*row)"
   ]
  },
  {
   "cell_type": "code",
   "execution_count": 7,
   "id": "12192ff3",
   "metadata": {},
   "outputs": [
    {
     "name": "stdout",
     "output_type": "stream",
     "text": [
      "c1 c2 c3\n",
      "6 6 6\n",
      "5 5 5\n",
      "4 4 4\n",
      "6 6 6\n"
     ]
    }
   ],
   "source": [
    "d={'c1':[6,5,4,6],'c2':[6,5,4,6],'c3':[6,5,4,6],}\n",
    "for row in zip(*([key]+(value) for key, value in sorted(d.items()))):\n",
    "    print(*row)"
   ]
  },
  {
   "cell_type": "code",
   "execution_count": null,
   "id": "6861e9d3",
   "metadata": {},
   "outputs": [],
   "source": []
  }
 ],
 "metadata": {
  "kernelspec": {
   "display_name": "Python 3 (ipykernel)",
   "language": "python",
   "name": "python3"
  },
  "language_info": {
   "codemirror_mode": {
    "name": "ipython",
    "version": 3
   },
   "file_extension": ".py",
   "mimetype": "text/x-python",
   "name": "python",
   "nbconvert_exporter": "python",
   "pygments_lexer": "ipython3",
   "version": "3.11.4"
  }
 },
 "nbformat": 4,
 "nbformat_minor": 5
}
